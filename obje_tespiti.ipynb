{
 "cells": [
  {
   "cell_type": "code",
   "execution_count": 2,
   "metadata": {},
   "outputs": [],
   "source": [
    "from mediapipe import solutions #el tespiti iin görsel işleme görevlerini\n",
    "from mediapipe.framework.formats import landmark_pb2 # \"landmark_pb2\" formati cinsinden verileri almak için\n",
    "import numpy as np\n",
    "import cv2\n",
    "import matplotlib.pyplot as plt\n",
    "import mediapipe as mp\n",
    "from mediapipe.tasks import python\n",
    "from mediapipe.tasks.python import vision"
   ]
  },
  {
   "cell_type": "code",
   "execution_count": 3,
   "metadata": {},
   "outputs": [],
   "source": [
    "MARGIN = 10 #metnin üst köşesinden elin sınırına olan mesafe\n",
    "FONT_SIZE = 1 # yazı tipi boyutu\n",
    "FONT_THICKNESS = 1 #yazı kalınlığı\n",
    "HANDEDNESS_TEXT_COLOR = (88,205,54) # RGB formatında yeşil renk"
   ]
  },
  {
   "cell_type": "code",
   "execution_count": 1,
   "metadata": {},
   "outputs": [
    {
     "ename": "NameError",
     "evalue": "name 'python' is not defined",
     "output_type": "error",
     "traceback": [
      "\u001b[1;31m---------------------------------------------------------------------------\u001b[0m",
      "\u001b[1;31mNameError\u001b[0m                                 Traceback (most recent call last)",
      "Cell \u001b[1;32mIn[1], line 1\u001b[0m\n\u001b[1;32m----> 1\u001b[0m base_options \u001b[39m=\u001b[39m python\u001b[39m.\u001b[39mBaseOptions(model_asset_path\u001b[39m=\u001b[39m\u001b[39m\"\u001b[39m\u001b[39mhand_landmarker.task\u001b[39m\u001b[39m\"\u001b[39m)\n\u001b[0;32m      2\u001b[0m options \u001b[39m=\u001b[39m vision\u001b[39m.\u001b[39mHandLandmarkerOptions(base_options\u001b[39m=\u001b[39mbase_options,num_hands\u001b[39m=\u001b[39m\u001b[39m2\u001b[39m)\n",
      "\u001b[1;31mNameError\u001b[0m: name 'python' is not defined"
     ]
    }
   ],
   "source": [
    "base_options = python.BaseOptions(model_asset_path=\"hand_landmarker.task\")\n",
    "options = vision.HandLandmarkerOptions(base_options=base_options,num_hands=2)"
   ]
  },
  {
   "cell_type": "code",
   "execution_count": null,
   "metadata": {},
   "outputs": [],
   "source": []
  }
 ],
 "metadata": {
  "kernelspec": {
   "display_name": "Python 3",
   "language": "python",
   "name": "python3"
  },
  "language_info": {
   "codemirror_mode": {
    "name": "ipython",
    "version": 3
   },
   "file_extension": ".py",
   "mimetype": "text/x-python",
   "name": "python",
   "nbconvert_exporter": "python",
   "pygments_lexer": "ipython3",
   "version": "3.10.0"
  },
  "orig_nbformat": 4
 },
 "nbformat": 4,
 "nbformat_minor": 2
}
